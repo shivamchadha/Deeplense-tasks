{
  "cells": [
    {
      "cell_type": "markdown",
      "source": [
        "#Multi-Class Classification\n",
        "###Image Shape - (150,150)\n",
        "###Number of Classes - 3\n",
        "###Metric - AUC"
      ],
      "metadata": {
        "id": "4-y1vJRBqSw2"
      }
    },
    {
      "cell_type": "code",
      "execution_count": 1,
      "metadata": {
        "id": "k4443tZMN3Hg"
      },
      "outputs": [],
      "source": [
        "import pandas as pd\n",
        "import numpy as np\n",
        "import glob\n",
        "import matplotlib.pyplot as plt\n",
        "import gc\n",
        "from itertools import cycle\n",
        "\n"
      ]
    },
    {
      "cell_type": "code",
      "execution_count": null,
      "metadata": {
        "id": "aVkID0FJ8ybR"
      },
      "outputs": [],
      "source": [
        "# from google.colab import drive\n",
        "# drive.mount(\"/content/gdrive\")"
      ]
    },
    {
      "cell_type": "code",
      "execution_count": null,
      "metadata": {
        "id": "sQNRncGN0u4J"
      },
      "outputs": [],
      "source": [
        "# !unzip /content/gdrive/MyDrive/dataset.zip"
      ]
    },
    {
      "cell_type": "markdown",
      "source": [
        "### Reading and preparing data"
      ],
      "metadata": {
        "id": "WBD8z6iyrrzL"
      }
    },
    {
      "cell_type": "code",
      "execution_count": 9,
      "metadata": {
        "id": "Vsq1HQhXSOgf"
      },
      "outputs": [],
      "source": [
        "# Get CSV files list from a folder\n",
        "\n",
        "path_to_train =                             #'/content/dataset/train/'\n",
        "\n",
        "npy_no = glob.glob(path_to_train + \"no/*.npy\")\n",
        "npy_sphere = glob.glob(path_to_train + \"sphere/*.npy\")\n",
        "npy_vort = glob.glob(path_to_train + \"vort/*.npy\")\n",
        "\n",
        "images_no = np.array([np.load(file).astype('float32') for file in npy_no])\n",
        "images_sphere = np.array([np.load(file).astype('float32') for file in npy_sphere])\n",
        "images_vort = np.array([np.load(file).astype('float32') for file in npy_vort])\n",
        "\n",
        "\n",
        "image_train = np.concatenate((images_no,images_sphere,images_vort))\n",
        "X_train = image_train.reshape(-1,150,150,1)"
      ]
    },
    {
      "cell_type": "markdown",
      "source": [
        "### Creating labels"
      ],
      "metadata": {
        "id": "7RmmcXJDrv3v"
      }
    },
    {
      "cell_type": "code",
      "execution_count": 10,
      "metadata": {
        "id": "F52x2MIBVWRf"
      },
      "outputs": [],
      "source": [
        "labels = np.empty(30000).astype('uint8')\n",
        "labels[0:10000] = 1\n",
        "labels[10000:20000] = 2\n",
        "labels[20000:] = 3\n",
        "y_train = pd.get_dummies(labels).values   # one-hot encoding\n"
      ]
    },
    {
      "cell_type": "markdown",
      "source": [
        "### Reading validation data and creating labels"
      ],
      "metadata": {
        "id": "u4YogykiryGl"
      }
    },
    {
      "cell_type": "code",
      "source": [
        "pathv_to_val = \"/content/dataset/val/\"\n",
        "\n",
        "vals_no = glob.glob(pathv_to_val + \"no/*.npy\")\n",
        "vals_sphere = glob.glob(pathv_to_val + \"sphere/*.npy\")\n",
        "vals_vort = glob.glob(pathv_to_val + \"vort/*.npy\")\n",
        "\n",
        "val_no = np.array([np.load(file).astype('float32') for file in vals_no])\n",
        "val_sphere = np.array([np.load(file).astype('float32') for file in vals_sphere])\n",
        "val_vort = np.array([np.load(file).astype('float32') for file in vals_vort])\n",
        "\n",
        "\n",
        "image_val = np.concatenate((val_no,val_sphere,val_vort))\n",
        "X_val = image_val.reshape(-1,150,150,1)\n",
        "\n",
        "labels = np.empty(7500).astype('uint8')\n",
        "labels[0:2500] = 1\n",
        "labels[2500:5000] = 2\n",
        "labels[5000:] = 3\n",
        "y_val = pd.get_dummies(labels).values"
      ],
      "metadata": {
        "id": "DIrMmoLyDzVo"
      },
      "execution_count": 11,
      "outputs": []
    },
    {
      "cell_type": "markdown",
      "source": [
        "Deleting temporary variables"
      ],
      "metadata": {
        "id": "FgsmRa_Pr5WB"
      }
    },
    {
      "cell_type": "code",
      "execution_count": 12,
      "metadata": {
        "colab": {
          "base_uri": "https://localhost:8080/"
        },
        "id": "QjVPOC5x4lVl",
        "outputId": "d49f6c3e-2916-4899-b100-c5e3c9b1c63e"
      },
      "outputs": [
        {
          "output_type": "execute_result",
          "data": {
            "text/plain": [
              "363"
            ]
          },
          "metadata": {},
          "execution_count": 12
        }
      ],
      "source": [
        "del image_train\n",
        "del images_no\n",
        "del images_sphere\n",
        "del images_vort\n",
        "del labels\n",
        "\n",
        "del image_val\n",
        "del val_no\n",
        "del val_sphere\n",
        "del val_vort\n",
        "\n",
        "\n",
        "gc.collect()"
      ]
    },
    {
      "cell_type": "markdown",
      "source": [
        "## Importing important Keras functions"
      ],
      "metadata": {
        "id": "mxrYEn46sA9q"
      }
    },
    {
      "cell_type": "code",
      "execution_count": 13,
      "metadata": {
        "id": "R8NgrswFhzME"
      },
      "outputs": [],
      "source": [
        "from keras.models import Sequential\n",
        "from tensorflow.keras.optimizers import Adam\n",
        "from keras.initializers import TruncatedNormal\n",
        "from keras.layers import Input, Dense, Dropout, Flatten, Conv2D, MaxPooling2D,RandomFlip ,RandomRotation,RandomCrop\n",
        "from keras.callbacks import ReduceLROnPlateau, EarlyStopping\n",
        "from keras.models import Model\n",
        "from tensorflow.keras.metrics import AUC\n",
        "from tensorflow.keras.applications.resnet50 import ResNet50\n",
        "from tensorflow.random import set_seed\n",
        "\n",
        "from sklearn.metrics import roc_curve, auc\n",
        "\n",
        "set_seed(42)"
      ]
    },
    {
      "cell_type": "markdown",
      "source": [
        "Setting parameters for the model"
      ],
      "metadata": {
        "id": "U6LfQMfCsMYY"
      }
    },
    {
      "cell_type": "code",
      "execution_count": 14,
      "metadata": {
        "id": "5JY627QMhMXA"
      },
      "outputs": [],
      "source": [
        "lr_init     = 1.e-4     # Initial learning rate - Fastest convergence after comparing different values  \n",
        "batch_size  = 64       # Training batch size\n",
        "epochs      = 25       # Number of epochs\n",
        "doGPU       = True    # Use GPU\n",
        "img_rows = 150\n",
        "img_cols = 150"
      ]
    },
    {
      "cell_type": "code",
      "execution_count": 15,
      "metadata": {
        "id": "apojr8GNhpPy"
      },
      "outputs": [],
      "source": [
        "if doGPU:\n",
        "    import tensorflow.compat.v1 as tf\n",
        "    from tensorflow.compat.v1.keras.backend import set_session\n",
        "    config = tf.ConfigProto()\n",
        "    config.gpu_options.allow_growth=True\n",
        "    set_session(tf.Session(config=config))"
      ]
    },
    {
      "cell_type": "markdown",
      "source": [
        "Augmentation layer to prevent overfitting"
      ],
      "metadata": {
        "id": "6lhHHEqwshEz"
      }
    },
    {
      "cell_type": "code",
      "execution_count": 16,
      "metadata": {
        "id": "UvhJaimmYT2l"
      },
      "outputs": [],
      "source": [
        "data_augmentation = tf.keras.Sequential([\n",
        "  RandomFlip(\"horizontal_and_vertical\"),    # Random flipping of the image\n",
        "  RandomRotation((0,1)),                    # Rotation from 0 to 360 degrees\n",
        "  RandomCrop(150,150)                       # random cropping \n",
        "])"
      ]
    },
    {
      "cell_type": "markdown",
      "source": [
        "#Main Model\n",
        "\n",
        "ResNet50 \n",
        "\n",
        "Pre-trained weight\n",
        "\n",
        "All layers trainable\n",
        "\n",
        "Pre-trained weights helps in converging early, so does the making all the layers trainable (determined by experimentation).\n",
        "\n",
        "To feed the image to ResNet, image had to be made of 3 channels.\n",
        "There were 2 options.\n",
        "1. Add a Convolution layer\n",
        "2. Make 3 channel image with same values in all the channels.\n",
        "\n",
        "    1st option gave better results.\n",
        "\n",
        "Loss for multi-class classifcation - Categorical crossentropy\n"
      ],
      "metadata": {
        "id": "kMolkf_xs-Yh"
      }
    },
    {
      "cell_type": "code",
      "execution_count": 17,
      "metadata": {
        "id": "0u7n_3Cw8z-U",
        "colab": {
          "base_uri": "https://localhost:8080/"
        },
        "outputId": "9a843528-902d-47f9-cade-ed408ed8a34b"
      },
      "outputs": [
        {
          "output_type": "stream",
          "name": "stdout",
          "text": [
            "Downloading data from https://storage.googleapis.com/tensorflow/keras-applications/resnet/resnet50_weights_tf_dim_ordering_tf_kernels_notop.h5\n",
            "94773248/94765736 [==============================] - 2s 0us/step\n",
            "94781440/94765736 [==============================] - 2s 0us/step\n"
          ]
        }
      ],
      "source": [
        "ResNet50_model = ResNet50(weights= 'imagenet', include_top=False, input_shape=(150,150,3), classes=3)  # compared with vgg-16\n",
        "for layers in ResNet50_model.layers:\n",
        "    layers.trainable= True\n",
        "\n",
        "opt = Adam(learning_rate=lr_init)\n",
        "\n",
        "\n",
        "model = tf.keras.Sequential([ \n",
        "                             data_augmentation,\n",
        "                             Conv2D(3,(3,3),padding='same'),   \n",
        "                             ResNet50_model,\n",
        "                             Flatten(),\n",
        "                             Dense(256,activation='relu'),\n",
        "                             Dropout(0.4),\n",
        "                             Dense(3,activation='softmax')\n",
        "                            ])\n",
        "\n",
        "model.compile(loss = 'categorical_crossentropy', optimizer= opt, metrics=['AUC'])\n"
      ]
    },
    {
      "cell_type": "markdown",
      "source": [
        "Fitting the model.\n",
        "Used 2 callbacks to reduce learning rate and for early stopping, based on changes in validation loss."
      ],
      "metadata": {
        "id": "iuWG8Sswupgj"
      }
    },
    {
      "cell_type": "code",
      "execution_count": 19,
      "metadata": {
        "colab": {
          "base_uri": "https://localhost:8080/"
        },
        "id": "_KTxSuQlZg-M",
        "outputId": "81199fdc-4005-4287-bc06-011a910e630c"
      },
      "outputs": [
        {
          "output_type": "stream",
          "name": "stdout",
          "text": [
            "Epoch 1/25\n",
            "469/469 [==============================] - 408s 821ms/step - loss: 1.1436 - auc: 0.5294 - val_loss: 1.1370 - val_auc: 0.5024 - lr: 1.0000e-04\n",
            "Epoch 2/25\n",
            "469/469 [==============================] - 379s 808ms/step - loss: 0.9794 - auc: 0.6920 - val_loss: 1.1342 - val_auc: 0.5539 - lr: 1.0000e-04\n",
            "Epoch 3/25\n",
            "469/469 [==============================] - 393s 839ms/step - loss: 0.7557 - auc: 0.8377 - val_loss: 2.1347 - val_auc: 0.6885 - lr: 1.0000e-04\n",
            "Epoch 4/25\n",
            "469/469 [==============================] - 376s 802ms/step - loss: 0.5409 - auc: 0.9223 - val_loss: 1.6891 - val_auc: 0.7641 - lr: 1.0000e-04\n",
            "Epoch 5/25\n",
            "469/469 [==============================] - 379s 809ms/step - loss: 0.3924 - auc: 0.9587 - val_loss: 0.4015 - val_auc: 0.9614 - lr: 5.0000e-05\n",
            "Epoch 6/25\n",
            "469/469 [==============================] - 377s 803ms/step - loss: 0.3445 - auc: 0.9678 - val_loss: 0.3655 - val_auc: 0.9664 - lr: 5.0000e-05\n",
            "Epoch 7/25\n",
            "469/469 [==============================] - 378s 806ms/step - loss: 0.3142 - auc: 0.9730 - val_loss: 0.3291 - val_auc: 0.9713 - lr: 5.0000e-05\n",
            "Epoch 8/25\n",
            "469/469 [==============================] - 375s 800ms/step - loss: 0.2896 - auc: 0.9769 - val_loss: 0.2873 - val_auc: 0.9771 - lr: 5.0000e-05\n",
            "Epoch 9/25\n",
            "469/469 [==============================] - 378s 807ms/step - loss: 0.2746 - auc: 0.9792 - val_loss: 0.2853 - val_auc: 0.9777 - lr: 5.0000e-05\n",
            "Epoch 10/25\n",
            "469/469 [==============================] - 377s 805ms/step - loss: 0.2615 - auc: 0.9810 - val_loss: 0.2802 - val_auc: 0.9794 - lr: 5.0000e-05\n",
            "Epoch 11/25\n",
            "469/469 [==============================] - 377s 804ms/step - loss: 0.2436 - auc: 0.9833 - val_loss: 0.2604 - val_auc: 0.9811 - lr: 5.0000e-05\n",
            "Epoch 12/25\n",
            "469/469 [==============================] - 375s 800ms/step - loss: 0.2361 - auc: 0.9843 - val_loss: 0.3916 - val_auc: 0.9600 - lr: 5.0000e-05\n",
            "Epoch 13/25\n",
            "469/469 [==============================] - 393s 838ms/step - loss: 0.2272 - auc: 0.9854 - val_loss: 0.2448 - val_auc: 0.9832 - lr: 5.0000e-05\n",
            "Epoch 14/25\n",
            "469/469 [==============================] - 376s 801ms/step - loss: 0.2198 - auc: 0.9862 - val_loss: 0.2354 - val_auc: 0.9845 - lr: 5.0000e-05\n",
            "Epoch 15/25\n",
            "469/469 [==============================] - 376s 803ms/step - loss: 0.2085 - auc: 0.9874 - val_loss: 0.2429 - val_auc: 0.9850 - lr: 5.0000e-05\n",
            "Epoch 16/25\n",
            "469/469 [==============================] - 375s 799ms/step - loss: 0.2016 - auc: 0.9883 - val_loss: 0.2048 - val_auc: 0.9881 - lr: 5.0000e-05\n",
            "Epoch 17/25\n",
            "469/469 [==============================] - 378s 807ms/step - loss: 0.2002 - auc: 0.9884 - val_loss: 0.3355 - val_auc: 0.9706 - lr: 5.0000e-05\n",
            "Epoch 18/25\n",
            "469/469 [==============================] - 378s 806ms/step - loss: 0.1893 - auc: 0.9896 - val_loss: 0.2037 - val_auc: 0.9888 - lr: 5.0000e-05\n",
            "Epoch 19/25\n",
            "469/469 [==============================] - 393s 837ms/step - loss: 0.1870 - auc: 0.9897 - val_loss: 0.1937 - val_auc: 0.9892 - lr: 5.0000e-05\n",
            "Epoch 20/25\n",
            "469/469 [==============================] - 375s 799ms/step - loss: 0.1800 - auc: 0.9904 - val_loss: 0.2043 - val_auc: 0.9880 - lr: 5.0000e-05\n",
            "Epoch 21/25\n",
            "469/469 [==============================] - 377s 804ms/step - loss: 0.1765 - auc: 0.9908 - val_loss: 0.1926 - val_auc: 0.9894 - lr: 5.0000e-05\n",
            "Epoch 22/25\n",
            "469/469 [==============================] - 376s 802ms/step - loss: 0.1705 - auc: 0.9913 - val_loss: 0.1840 - val_auc: 0.9900 - lr: 5.0000e-05\n",
            "Epoch 23/25\n",
            "469/469 [==============================] - 376s 802ms/step - loss: 0.1652 - auc: 0.9916 - val_loss: 0.1853 - val_auc: 0.9899 - lr: 5.0000e-05\n",
            "Epoch 24/25\n",
            "469/469 [==============================] - 374s 797ms/step - loss: 0.1606 - auc: 0.9920 - val_loss: 0.1857 - val_auc: 0.9901 - lr: 5.0000e-05\n",
            "Epoch 25/25\n",
            "469/469 [==============================] - 376s 802ms/step - loss: 0.1409 - auc: 0.9939 - val_loss: 0.1808 - val_auc: 0.9906 - lr: 2.5000e-05\n"
          ]
        }
      ],
      "source": [
        "reduce_lr = ReduceLROnPlateau(monitor='val_loss', factor=0.5, patience=2, min_lr=1.e-6)\n",
        "earlyStopping = EarlyStopping(monitor='val_loss', patience=5, verbose=0, mode='min')\n",
        "history=model.fit(X_train, y_train,\\\n",
        "        batch_size=batch_size,\\\n",
        "        epochs=epochs,\\\n",
        "        validation_data=(X_val, y_val),\\\n",
        "        callbacks=[reduce_lr, earlyStopping],\\\n",
        "        verbose=1, shuffle=True)"
      ]
    },
    {
      "cell_type": "markdown",
      "source": [
        "save model"
      ],
      "metadata": {
        "id": "MYQW_y4tvBal"
      }
    },
    {
      "cell_type": "code",
      "execution_count": null,
      "metadata": {
        "id": "1vGrUaKe34nx"
      },
      "outputs": [],
      "source": [
        "# model.save('model.h5')\n",
        "# from google.colab import files\n",
        "# files.download('model.h5') "
      ]
    },
    {
      "cell_type": "markdown",
      "source": [
        "# Model Summary"
      ],
      "metadata": {
        "id": "MHfwzTzqvDM1"
      }
    },
    {
      "cell_type": "code",
      "source": [
        "model.summary()"
      ],
      "metadata": {
        "id": "pXIahf9KXL3k",
        "colab": {
          "base_uri": "https://localhost:8080/"
        },
        "outputId": "73631491-713c-4ae1-bb5c-be5501988beb"
      },
      "execution_count": 20,
      "outputs": [
        {
          "output_type": "stream",
          "name": "stdout",
          "text": [
            "Model: \"sequential_1\"\n",
            "_________________________________________________________________\n",
            " Layer (type)                Output Shape              Param #   \n",
            "=================================================================\n",
            " sequential (Sequential)     (None, 150, 150, 1)       0         \n",
            "                                                                 \n",
            " conv2d (Conv2D)             (None, 150, 150, 3)       30        \n",
            "                                                                 \n",
            " resnet50 (Functional)       (None, 5, 5, 2048)        23587712  \n",
            "                                                                 \n",
            " flatten (Flatten)           (None, 51200)             0         \n",
            "                                                                 \n",
            " dense (Dense)               (None, 256)               13107456  \n",
            "                                                                 \n",
            " dropout (Dropout)           (None, 256)               0         \n",
            "                                                                 \n",
            " dense_1 (Dense)             (None, 3)                 771       \n",
            "                                                                 \n",
            "=================================================================\n",
            "Total params: 36,695,969\n",
            "Trainable params: 36,642,849\n",
            "Non-trainable params: 53,120\n",
            "_________________________________________________________________\n"
          ]
        }
      ]
    },
    {
      "cell_type": "code",
      "execution_count": 21,
      "metadata": {
        "colab": {
          "base_uri": "https://localhost:8080/"
        },
        "id": "--mEKZKi34Xz",
        "outputId": "cfeffe6c-c326-44a0-b946-698e8431678b"
      },
      "outputs": [
        {
          "output_type": "execute_result",
          "data": {
            "text/plain": [
              "1489"
            ]
          },
          "metadata": {},
          "execution_count": 21
        }
      ],
      "source": [
        "gc.collect()"
      ]
    },
    {
      "cell_type": "markdown",
      "source": [
        "### Calculating Classwise AUC and plotting ROC curves."
      ],
      "metadata": {
        "id": "bB5xyMJ6vIxZ"
      }
    },
    {
      "cell_type": "code",
      "execution_count": 22,
      "metadata": {
        "id": "riIM2RZC3ebU"
      },
      "outputs": [],
      "source": [
        "fpr = dict()\n",
        "tpr = dict()\n",
        "roc_auc = dict()\n",
        "lw=2\n",
        "n_classes = y_train.shape[1]\n",
        "y_pred = model.predict(X_val)"
      ]
    },
    {
      "cell_type": "code",
      "execution_count": 23,
      "metadata": {
        "id": "cPeU0fWS4nQv",
        "colab": {
          "base_uri": "https://localhost:8080/",
          "height": 295
        },
        "outputId": "9194d3c3-afcf-4f54-9d8d-2e76199f79c4"
      },
      "outputs": [
        {
          "output_type": "display_data",
          "data": {
            "text/plain": [
              "<Figure size 432x288 with 1 Axes>"
            ],
            "image/png": "[encoded data removed]"
          },
          "metadata": {
            "needs_background": "light"
          }
        }
      ],
      "source": [
        "for i in range(n_classes):\n",
        "    fpr[i], tpr[i], _ = roc_curve(y_val[:, i], y_pred[:, i])\n",
        "    roc_auc[i] = auc(fpr[i], tpr[i])\n",
        "colors = cycle(['blue', 'red', 'green'])\n",
        "for i, color in zip(range(n_classes), colors):\n",
        "    plt.plot(fpr[i], tpr[i], color=color, lw=2,\n",
        "             label='ROC curve of class {0} (area = {1:0.2f})'\n",
        "             ''.format(i, roc_auc[i]))\n",
        "plt.plot([0, 1], [0, 1], 'k--', lw=lw)\n",
        "plt.xlim([-0.05, 1.0])\n",
        "plt.ylim([0.0, 1.05])\n",
        "plt.xlabel('False Positive Rate')\n",
        "plt.ylabel('True Positive Rate')\n",
        "plt.title('Receiver operating characteristic for multi-class data')\n",
        "plt.legend(loc=\"lower right\")\n",
        "plt.show()"
      ]
    }
  ],
  "metadata": {
    "accelerator": "GPU",
    "colab": {
      "name": "Task1.ipynb",
      "provenance": []
    },
    "kernelspec": {
      "display_name": "Python 3",
      "name": "python3"
    },
    "language_info": {
      "name": "python"
    }
  },
  "nbformat": 4,
  "nbformat_minor": 0
}