{
  "nbformat": 4,
  "nbformat_minor": 0,
  "metadata": {
    "colab": {
      "name": "Copy of Task3.ipynb",
      "provenance": []
    },
    "kernelspec": {
      "name": "python3",
      "display_name": "Python 3"
    },
    "language_info": {
      "name": "python"
    },
    "accelerator": "GPU"
  },
  "cells": [
    {
      "cell_type": "markdown",
      "source": [
        "# Test-3: Learning Mass of Dark Matter Halo \n",
        "###Image Shape - (150,150)\n",
        "###Output -  Mass (single value)\n",
        "###Metric - MSE"
      ],
      "metadata": {
        "id": "Obl-ZycEzVms"
      }
    },
    {
      "cell_type": "code",
      "execution_count": null,
      "metadata": {
        "id": "ulujdCMEBf-x"
      },
      "outputs": [],
      "source": [
        "import pandas as pd\n",
        "import numpy as np\n",
        "import glob\n",
        "import matplotlib.pyplot as plt\n",
        "import gc\n",
        "from sklearn.preprocessing import MinMaxScaler,StandardScaler\n",
        "\n"
      ]
    },
    {
      "cell_type": "code",
      "source": [
        "# from google.colab import drive\n",
        "# drive.mount('/content/drive')"
      ],
      "metadata": {
        "id": "a_TJ9BTBnh5Z"
      },
      "execution_count": null,
      "outputs": []
    },
    {
      "cell_type": "code",
      "source": [
        "# !tar -xzvf /content/drive/MyDrive/lens_data_alt.tgz"
      ],
      "metadata": {
        "id": "1u0yC5sHBlh9"
      },
      "execution_count": null,
      "outputs": []
    },
    {
      "cell_type": "markdown",
      "source": [
        "### Reading and preparing data"
      ],
      "metadata": {
        "id": "d0R5o1j_0OTT"
      }
    },
    {
      "cell_type": "code",
      "source": [
        "path_to_data =                            #\"/content/lens_data\"\n",
        "npy_data = glob.glob(path_to_data + \"/*.npy\")\n",
        "images = []\n",
        "y = []\n",
        "for file in npy_data:\n",
        "   a = np.load(file,allow_pickle=True)\n",
        "   images.append(a[0])\n",
        "   y.append(a[1]) \n",
        "\n",
        "images = np.array(images).astype('float')\n",
        "y = np.array(y).astype('float').reshape(-1, 1)\n",
        "\n",
        "images = images.reshape(-1,150,150,1)"
      ],
      "metadata": {
        "id": "vpQsPI03LkZi"
      },
      "execution_count": null,
      "outputs": []
    },
    {
      "cell_type": "markdown",
      "source": [
        "### Normalising masses \n",
        "### Input values scaled between 0 and 1. Standardizing inputs had no significant improvement "
      ],
      "metadata": {
        "id": "IZEtYk2P0bnG"
      }
    },
    {
      "cell_type": "code",
      "source": [
        "norm = MinMaxScaler()\n",
        "norm.fit(y)\n",
        "y = norm.transform(y)\n",
        "\n",
        "# scaler = StandardScaler()\n",
        "# scaler.fit(images)\n",
        "# X = scaler.transform(images).reshape(-1,150,150,1)\n",
        "X = images/255"
      ],
      "metadata": {
        "id": "W4f0ULp0IJdg"
      },
      "execution_count": null,
      "outputs": []
    },
    {
      "cell_type": "code",
      "source": [
        "print('y \\nmean / std dev / max / min : %0.4f / %0.4f / %0.4f / %0.4f\\n'%(y.mean(), y.std(), y.max(), y.min() ))"
      ],
      "metadata": {
        "colab": {
          "base_uri": "https://localhost:8080/"
        },
        "id": "pjvnN0tJR7RA",
        "outputId": "ae5de87e-02bc-4229-b71f-c489ee563d61"
      },
      "execution_count": null,
      "outputs": [
        {
          "output_type": "stream",
          "name": "stdout",
          "text": [
            "y \n",
            "mean / std dev / max / min : 0.3710 / 0.1396 / 1.0000 / 0.0000\n",
            "\n"
          ]
        }
      ]
    },
    {
      "cell_type": "markdown",
      "source": [
        "Deleting temporary variables"
      ],
      "metadata": {
        "id": "hRlPSsHU08s5"
      }
    },
    {
      "cell_type": "code",
      "source": [
        "del images\n",
        "gc.collect()"
      ],
      "metadata": {
        "colab": {
          "base_uri": "https://localhost:8080/"
        },
        "id": "ASu918mFeqsw",
        "outputId": "1d4babad-4cd6-49db-c7ad-333332f2c0ce"
      },
      "execution_count": null,
      "outputs": [
        {
          "output_type": "execute_result",
          "data": {
            "text/plain": [
              "419"
            ]
          },
          "metadata": {},
          "execution_count": 7
        }
      ]
    },
    {
      "cell_type": "markdown",
      "source": [
        "## Importing important Keras functions"
      ],
      "metadata": {
        "id": "VsjTeMvW1W_m"
      }
    },
    {
      "cell_type": "code",
      "source": [
        "from keras.models import Sequential\n",
        "from tensorflow.keras.optimizers import Adam\n",
        "from keras.initializers import TruncatedNormal\n",
        "from keras.layers import Input, Dense, Dropout, Flatten, Conv2D, MaxPooling2D,BatchNormalization,RandomFlip ,RandomRotation,RandomCrop\n",
        "from keras.callbacks import ReduceLROnPlateau, EarlyStopping\n",
        "from tensorflow.keras import backend as K\n",
        "from keras.models import Model\n",
        "from tensorflow.keras.losses import mean_squared_error\n",
        "from tensorflow.keras.applications.resnet50 import ResNet50\n",
        "from tensorflow.random import set_seed\n",
        "set_seed(42)\n",
        "\n",
        "\n",
        "\n"
      ],
      "metadata": {
        "id": "Gd5eSI9PExqe"
      },
      "execution_count": null,
      "outputs": []
    },
    {
      "cell_type": "markdown",
      "source": [
        "###Setting parameters for the model"
      ],
      "metadata": {
        "id": "SuYheiqP1dOy"
      }
    },
    {
      "cell_type": "code",
      "source": [
        "lr_init     = 1.e-4     # Initial learning rate  \n",
        "batch_size  = 64       # Training batch size\n",
        "epochs      = 25       # Number of epochs\n",
        "doGPU       = True    # Use GPU\n",
        "img_rows = 150\n",
        "img_cols = 150"
      ],
      "metadata": {
        "id": "OuquzxI6eT9u"
      },
      "execution_count": null,
      "outputs": []
    },
    {
      "cell_type": "code",
      "source": [
        "if doGPU:\n",
        "    import tensorflow.compat.v1 as tf\n",
        "    from tensorflow.compat.v1.keras.backend import set_session\n",
        "    config = tf.ConfigProto()\n",
        "    config.gpu_options.allow_growth=True\n",
        "    set_session(tf.Session(config=config))"
      ],
      "metadata": {
        "id": "p6rJfXQFeX6D"
      },
      "execution_count": null,
      "outputs": []
    },
    {
      "cell_type": "code",
      "source": [
        "def rmse(y_true, y_pred):\n",
        "    return K.sqrt(K.mean(K.square(y_pred - y_true)))\n"
      ],
      "metadata": {
        "id": "95YAYI_077PX"
      },
      "execution_count": null,
      "outputs": []
    },
    {
      "cell_type": "markdown",
      "source": [
        "###Augmentation layer to prevent overfitting"
      ],
      "metadata": {
        "id": "EpqZfPmU2JKD"
      }
    },
    {
      "cell_type": "code",
      "source": [
        "data_augmentation = tf.keras.Sequential([\n",
        "  RandomFlip(\"horizontal_and_vertical\"),    # Random flipping of the image\n",
        "  RandomRotation((0,1)),                    # Rotation from 0 to 360 degrees\n",
        "  RandomCrop(150,150)                       # random cropping \n",
        "])"
      ],
      "metadata": {
        "id": "ETyHsFER1T0P"
      },
      "execution_count": null,
      "outputs": []
    },
    {
      "cell_type": "markdown",
      "source": [
        "#Main Model\n",
        "\n",
        "ResNet50 \n",
        "\n",
        "Pre-trained weight\n",
        "\n",
        "All layers trainable\n",
        "\n",
        "Pre-trained weights helps in converging early, so does the making all the layers trainable (determined by experimentation).\n",
        "\n",
        "To feed the image to ResNet, image had to be made of 3 channels.\n",
        "There were 2 options.\n",
        "1. Add a Convolution layer\n",
        "2. Make 3 channel image with same values in all the channels.\n",
        "\n",
        "    1st option gave better results.\n",
        "\n",
        "Loss for Regression - Root Mean Sqaured Error\n",
        "\n",
        "Extra metric- Mean Absolute Percentage error (gives extremely large values for close to 0, used here just to observe the general trend.)\n"
      ],
      "metadata": {
        "id": "Srt9vVVH2CqN"
      }
    },
    {
      "cell_type": "code",
      "source": [
        "ResNet50_model = ResNet50(weights= 'imagenet', include_top=False, input_shape=(150,150,3), classes=3)\n",
        "for layers in ResNet50_model.layers:\n",
        "    layers.trainable= True\n",
        "opt = Adam(learning_rate=lr_init)\n",
        "\n",
        "\n",
        "model = tf.keras.Sequential([ \n",
        "                             data_augmentation,\n",
        "                             Conv2D(3,(3,3),padding='same'),   \n",
        "                             ResNet50_model,\n",
        "                             Flatten(),\n",
        "                             Dense(256,activation='relu'),\n",
        "                             Dropout(0.5),\n",
        "                             Dense(1,activation='sigmoid')      # After comparison, chose sigmoid instead of linear for normalised values.\n",
        "                            ])\n",
        "\n",
        "model.compile(loss = rmse, optimizer= opt, metrics=['mean_squared_error','mape'])\n",
        "\n",
        "\n"
      ],
      "metadata": {
        "id": "SeQPI66C1UUB",
        "colab": {
          "base_uri": "https://localhost:8080/"
        },
        "outputId": "ba27eb5a-17dc-45e2-e1e2-e40424932c3d"
      },
      "execution_count": null,
      "outputs": [
        {
          "output_type": "stream",
          "name": "stdout",
          "text": [
            "Downloading data from https://storage.googleapis.com/tensorflow/keras-applications/resnet/resnet50_weights_tf_dim_ordering_tf_kernels_notop.h5\n",
            "94773248/94765736 [==============================] - 1s 0us/step\n",
            "94781440/94765736 [==============================] - 1s 0us/step\n"
          ]
        }
      ]
    },
    {
      "cell_type": "markdown",
      "source": [
        "Fitting the model.\n",
        "\n",
        "Used 2 callbacks to reduce learning rate and for early stopping, based on changes in validation loss."
      ],
      "metadata": {
        "id": "enUP9C7s3hz2"
      }
    },
    {
      "cell_type": "code",
      "source": [
        "reduce_lr = ReduceLROnPlateau(monitor='val_loss', factor=0.2, patience=2, min_lr=1.e-8)\n",
        "earlyStopping = EarlyStopping(monitor='val_loss', patience=5, verbose=0, mode='min')\n",
        "history=model.fit(X, y,\\\n",
        "        batch_size=batch_size,\\\n",
        "        epochs=epochs,\\\n",
        "        # validation_data=(x_val, y_val),\\\n",
        "        callbacks=[reduce_lr, earlyStopping ],\\\n",
        "        verbose=1, shuffle=True,\n",
        "        validation_split=0.1)"
      ],
      "metadata": {
        "colab": {
          "base_uri": "https://localhost:8080/"
        },
        "id": "ItrPc1U4ehrN",
        "outputId": "a670ec68-f686-4f6c-d71e-254c0e8ec8a8"
      },
      "execution_count": null,
      "outputs": [
        {
          "output_type": "stream",
          "name": "stdout",
          "text": [
            "Epoch 1/25\n",
            "282/282 [==============================] - 237s 759ms/step - loss: 0.1816 - mean_squared_error: 0.0394 - mape: 20708.4082 - val_loss: 0.1439 - val_mean_squared_error: 0.0209 - val_mape: 43.9149 - lr: 1.0000e-04\n",
            "Epoch 2/25\n",
            "282/282 [==============================] - 212s 752ms/step - loss: 0.1297 - mean_squared_error: 0.0170 - mape: 26273.4785 - val_loss: 0.1537 - val_mean_squared_error: 0.0238 - val_mape: 36.7276 - lr: 1.0000e-04\n",
            "Epoch 3/25\n",
            "282/282 [==============================] - 215s 762ms/step - loss: 0.1162 - mean_squared_error: 0.0137 - mape: 13461.6426 - val_loss: 0.1375 - val_mean_squared_error: 0.0190 - val_mape: 39.4784 - lr: 1.0000e-04\n",
            "Epoch 4/25\n",
            "282/282 [==============================] - 210s 746ms/step - loss: 0.1087 - mean_squared_error: 0.0119 - mape: 11565.6729 - val_loss: 0.2335 - val_mean_squared_error: 0.0547 - val_mape: 51.8713 - lr: 1.0000e-04\n",
            "Epoch 5/25\n",
            "282/282 [==============================] - 209s 742ms/step - loss: 0.1064 - mean_squared_error: 0.0114 - mape: 10367.5273 - val_loss: 0.1038 - val_mean_squared_error: 0.0109 - val_mape: 31.3386 - lr: 1.0000e-04\n",
            "Epoch 6/25\n",
            "282/282 [==============================] - 215s 762ms/step - loss: 0.1028 - mean_squared_error: 0.0107 - mape: 3793.6670 - val_loss: 0.0950 - val_mean_squared_error: 0.0091 - val_mape: 25.5811 - lr: 1.0000e-04\n",
            "Epoch 7/25\n",
            "282/282 [==============================] - 211s 748ms/step - loss: 0.1011 - mean_squared_error: 0.0103 - mape: 7064.5723 - val_loss: 0.1579 - val_mean_squared_error: 0.0250 - val_mape: 37.1249 - lr: 1.0000e-04\n",
            "Epoch 8/25\n",
            "282/282 [==============================] - 210s 744ms/step - loss: 0.0992 - mean_squared_error: 0.0100 - mape: 4573.2900 - val_loss: 0.1054 - val_mean_squared_error: 0.0112 - val_mape: 22.4110 - lr: 1.0000e-04\n",
            "Epoch 9/25\n",
            "282/282 [==============================] - 211s 749ms/step - loss: 0.0954 - mean_squared_error: 0.0092 - mape: 14249.2822 - val_loss: 0.0885 - val_mean_squared_error: 0.0079 - val_mape: 22.0363 - lr: 2.0000e-05\n",
            "Epoch 10/25\n",
            "282/282 [==============================] - 208s 739ms/step - loss: 0.0938 - mean_squared_error: 0.0089 - mape: 13843.1963 - val_loss: 0.0899 - val_mean_squared_error: 0.0082 - val_mape: 23.0981 - lr: 2.0000e-05\n",
            "Epoch 11/25\n",
            "282/282 [==============================] - 207s 734ms/step - loss: 0.0934 - mean_squared_error: 0.0088 - mape: 4695.3301 - val_loss: 0.0860 - val_mean_squared_error: 0.0075 - val_mape: 20.4110 - lr: 2.0000e-05\n",
            "Epoch 12/25\n",
            "282/282 [==============================] - 209s 741ms/step - loss: 0.0916 - mean_squared_error: 0.0085 - mape: 3990.3008 - val_loss: 0.1129 - val_mean_squared_error: 0.0128 - val_mape: 24.0232 - lr: 2.0000e-05\n",
            "Epoch 13/25\n",
            "282/282 [==============================] - 209s 742ms/step - loss: 0.0920 - mean_squared_error: 0.0086 - mape: 7599.7192 - val_loss: 0.0856 - val_mean_squared_error: 0.0074 - val_mape: 19.8056 - lr: 2.0000e-05\n",
            "Epoch 14/25\n",
            "282/282 [==============================] - 209s 740ms/step - loss: 0.0911 - mean_squared_error: 0.0084 - mape: 3788.6067 - val_loss: 0.0834 - val_mean_squared_error: 0.0070 - val_mape: 21.0718 - lr: 2.0000e-05\n",
            "Epoch 15/25\n",
            "282/282 [==============================] - 207s 735ms/step - loss: 0.0901 - mean_squared_error: 0.0082 - mape: 8248.5889 - val_loss: 0.0845 - val_mean_squared_error: 0.0072 - val_mape: 21.3294 - lr: 2.0000e-05\n",
            "Epoch 16/25\n",
            "282/282 [==============================] - 208s 736ms/step - loss: 0.0904 - mean_squared_error: 0.0083 - mape: 3858.8755 - val_loss: 0.1040 - val_mean_squared_error: 0.0109 - val_mape: 31.4180 - lr: 2.0000e-05\n",
            "Epoch 17/25\n",
            "282/282 [==============================] - 208s 739ms/step - loss: 0.0889 - mean_squared_error: 0.0080 - mape: 6349.1372 - val_loss: 0.0820 - val_mean_squared_error: 0.0068 - val_mape: 19.3724 - lr: 4.0000e-06\n",
            "Epoch 18/25\n",
            "282/282 [==============================] - 211s 749ms/step - loss: 0.0885 - mean_squared_error: 0.0079 - mape: 6673.9438 - val_loss: 0.0799 - val_mean_squared_error: 0.0065 - val_mape: 19.5437 - lr: 4.0000e-06\n",
            "Epoch 19/25\n",
            "282/282 [==============================] - 209s 740ms/step - loss: 0.0885 - mean_squared_error: 0.0079 - mape: 8673.1904 - val_loss: 0.0819 - val_mean_squared_error: 0.0068 - val_mape: 19.0545 - lr: 4.0000e-06\n",
            "Epoch 20/25\n",
            "282/282 [==============================] - 208s 736ms/step - loss: 0.0879 - mean_squared_error: 0.0078 - mape: 3085.7947 - val_loss: 0.0808 - val_mean_squared_error: 0.0066 - val_mape: 18.9758 - lr: 4.0000e-06\n",
            "Epoch 21/25\n",
            "282/282 [==============================] - 211s 748ms/step - loss: 0.0871 - mean_squared_error: 0.0077 - mape: 2168.8130 - val_loss: 0.0799 - val_mean_squared_error: 0.0064 - val_mape: 19.0804 - lr: 8.0000e-07\n",
            "Epoch 22/25\n",
            "282/282 [==============================] - 208s 737ms/step - loss: 0.0878 - mean_squared_error: 0.0078 - mape: 4956.6479 - val_loss: 0.0795 - val_mean_squared_error: 0.0064 - val_mape: 18.9236 - lr: 8.0000e-07\n",
            "Epoch 23/25\n",
            "282/282 [==============================] - 207s 733ms/step - loss: 0.0880 - mean_squared_error: 0.0078 - mape: 12545.5947 - val_loss: 0.0797 - val_mean_squared_error: 0.0064 - val_mape: 19.4425 - lr: 8.0000e-07\n",
            "Epoch 24/25\n",
            "282/282 [==============================] - 206s 731ms/step - loss: 0.0873 - mean_squared_error: 0.0077 - mape: 3671.7268 - val_loss: 0.0795 - val_mean_squared_error: 0.0064 - val_mape: 19.0957 - lr: 8.0000e-07\n",
            "Epoch 25/25\n",
            "282/282 [==============================] - 208s 736ms/step - loss: 0.0876 - mean_squared_error: 0.0077 - mape: 7782.9829 - val_loss: 0.0797 - val_mean_squared_error: 0.0064 - val_mape: 18.9629 - lr: 1.6000e-07\n"
          ]
        }
      ]
    },
    {
      "cell_type": "markdown",
      "source": [
        "###Validation MSE over training"
      ],
      "metadata": {
        "id": "g0OXW4pY3pmL"
      }
    },
    {
      "cell_type": "code",
      "source": [
        "plt.plot(history.history['mean_squared_error'])\n",
        "plt.plot(history.history['val_mean_squared_error'])\n",
        "plt.title('Mean Squared Error')\n",
        "plt.ylabel('MSE')\n",
        "plt.xlabel('Epoch')\n",
        "plt.legend(['Train', 'Val'], loc='upper right')\n",
        "plt.show()"
      ],
      "metadata": {
        "id": "NQnnI9S-nOz0",
        "colab": {
          "base_uri": "https://localhost:8080/"
        },
        "outputId": "bd7baf11-d9fd-4e9d-8d88-3daba7c7c1d8"
      },
      "execution_count": null,
      "outputs": [
        {
          "output_type": "display_data",
          "data": {
            "text/plain": [
              "<Figure size 432x288 with 1 Axes>"
            ],
            "image/png": "[encoded data removed]"
          },
          "metadata": {
            "needs_background": "light"
          }
        }
      ]
    },
    {
      "cell_type": "code",
      "source": [
        "model.save_weights('model.h5')\n",
        "from google.colab import files\n",
        "files.download('model.h5') "
      ],
      "metadata": {
        "id": "FeqfKQl0ov7w",
        "colab": {
          "base_uri": "https://localhost:8080/"
        },
        "outputId": "ba8c794f-36b7-47f9-a323-171094ef2432"
      },
      "execution_count": null,
      "outputs": [
        {
          "output_type": "display_data",
          "data": {
            "text/plain": [
              "<IPython.core.display.Javascript object>"
            ],
            "application/javascript": [
              "\n",
              "    async function download(id, filename, size) {\n",
              "      if (!google.colab.kernel.accessAllowed) {\n",
              "        return;\n",
              "      }\n",
              "      const div = document.createElement('div');\n",
              "      const label = document.createElement('label');\n",
              "      label.textContent = `Downloading \"${filename}\": `;\n",
              "      div.appendChild(label);\n",
              "      const progress = document.createElement('progress');\n",
              "      progress.max = size;\n",
              "      div.appendChild(progress);\n",
              "      document.body.appendChild(div);\n",
              "\n",
              "      const buffers = [];\n",
              "      let downloaded = 0;\n",
              "\n",
              "      const channel = await google.colab.kernel.comms.open(id);\n",
              "      // Send a message to notify the kernel that we're ready.\n",
              "      channel.send({})\n",
              "\n",
              "      for await (const message of channel.messages) {\n",
              "        // Send a message to notify the kernel that we're ready.\n",
              "        channel.send({})\n",
              "        if (message.buffers) {\n",
              "          for (const buffer of message.buffers) {\n",
              "            buffers.push(buffer);\n",
              "            downloaded += buffer.byteLength;\n",
              "            progress.value = downloaded;\n",
              "          }\n",
              "        }\n",
              "      }\n",
              "      const blob = new Blob(buffers, {type: 'application/binary'});\n",
              "      const a = document.createElement('a');\n",
              "      a.href = window.URL.createObjectURL(blob);\n",
              "      a.download = filename;\n",
              "      div.appendChild(a);\n",
              "      a.click();\n",
              "      div.remove();\n",
              "    }\n",
              "  "
            ]
          },
          "metadata": {}
        },
        {
          "output_type": "display_data",
          "data": {
            "text/plain": [
              "<IPython.core.display.Javascript object>"
            ],
            "application/javascript": [
              "download(\"download_2f87777b-4116-44c0-ad26-9efecfedac1a\", \"model.h5\", 147031368)"
            ]
          },
          "metadata": {}
        }
      ]
    }
  ]
}